{
 "cells": [
  {
   "cell_type": "markdown",
   "metadata": {},
   "source": [
    "## Construyendo la fórmula SHAP (2/2) - Ponderando las contribuciones marginales\n",
    "\n",
    "¿Pero cómo determinamos los pesos de las aristas (es decir, de las contiribuciones marginales de Age en los 4 modelos)?\n",
    "\n",
    "La idea es que:\n",
    "\n",
    "- La suma de los pesos de todas las contribuciones marginales a los modelos de 1-característica debe ser igual a la suma de los pesos de todas las contribuciones marginales a los modelos de 2-caracterísitcas y así sucesivamente... En otras palabras, la suma de todos los pesos de la misma \"fila\" debería ser igual a la suma de todos los pesos de cualquier otra \"fila\".\n",
    "En nuestro ejemplo, esto implica: $w₁ = w₂ + w₃ = w₄$.\n",
    "\n",
    "- Todos los pesos de las contribuciones marginales a los modelos de característica $f$ deben ser iguales entre sí, para cada $f$. En otras palabras, todas las aristas de la misma \"fila\" deben ser iguales entre sí.\n",
    "En nuestro ejemplo, esto significa: $w₂ = w₃$.\n",
    "\n",
    "Por lo tanto, (teniendo en cuenta que deben sumar a 1) la solución es:\n",
    "\n",
    "- $w_1$ = 1/3\n",
    "- $w_2$ = 1/6\n",
    "- $w_3$ = 1/6\n",
    "- $w_4$ = 1/3\n",
    "\n",
    "¿Hay una fórmula para calcular esto? El peso de una arista es el recíproco del número total de aristas en la misma \"fila\". O, de forma equivalente, el peso de una contribución marginal a un modelo de característica $f$ es el recíproco del número de posibles contribuciones marginales a todos los modelos de característica $f$.\n",
    "\n",
    "Cada modelo de característica $f$ tiene contribuciones marginales $f$ (una por característica), por lo que basta con contar el número de modelos posibles de característica $f$ y multiplicarlo por f. \n",
    "\n",
    "Así pues, el problema se reduce a contar el número de modelos posibles de característica $f$, dado $f$ y sabiendo que el número total de características es $F$. Esta es simplemente la definición del coeficiente binomial.\n",
    "\n",
    "Si ponemos todo junto, tenemos que el número de todas las contribuciones marginales de todos los modelos de la característica $f$ - en otras palabras, el número de aristas en cada \"fila\" - es:\n",
    "\n",
    "$$f\\cdot \\binom{F}{f}$$\n",
    "\n",
    "Basta con tomar el recíproco de esto y tenemos el peso de una contribución marginal a un modelo para la característica $f$.\n",
    "\n",
    "Esto se ejemplifica en la siguiente figura:\n",
    "\n",
    "<br>\n",
    "<div align=\"center\" class=\"image\">\n",
    "    <img src=\"img/shap6.png\" width=\"500\">\n",
    "    <div><font size=\"-1\">Cómo se obtienen los pesos del número de aristas.\n",
    "</font></div>\n",
    "</div>\n",
    "<br>\n",
    "\n",
    "Ahora, tenemos todos los elementos necesarios para calcular el valor SHAP de la característica Age para $x_0$:\n",
    "\n",
    "<br>\n",
    "<div align=\"center\" class=\"image\">\n",
    "    <img src=\"img/shap7.png\" width=\"500\">\n",
    "</div>\n",
    "<br>"
   ]
  }
 ],
 "metadata": {
  "kernelspec": {
   "display_name": "Python [conda env:mds] *",
   "language": "python",
   "name": "conda-env-mds-py"
  },
  "language_info": {
   "codemirror_mode": {
    "name": "ipython",
    "version": 3
   },
   "file_extension": ".py",
   "mimetype": "text/x-python",
   "name": "python",
   "nbconvert_exporter": "python",
   "pygments_lexer": "ipython3",
   "version": "3.7.9"
  }
 },
 "nbformat": 4,
 "nbformat_minor": 4
}
