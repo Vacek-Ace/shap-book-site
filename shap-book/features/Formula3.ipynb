{
 "cells": [
  {
   "cell_type": "markdown",
   "metadata": {},
   "source": [
    "## Fórmula SHAP\n",
    "Hemos construido la fórmula para calcular el valor SHAP de la característica Age en un modelo de 3 características. Generalizando a cualquier característica y cualquier $F$, obtenemos la fórmula:\n",
    "\n",
    "<br>\n",
    "<div align=\"center\" class=\"image\">\n",
    "    <img src=\"img/shap8.png\" width=\"500\">\n",
    "</div>\n",
    "<br>\n",
    "\n",
    "Aplicada a nuestro ejemplo, la fórmula da resultados:\n",
    "\n",
    "- SHAP_Age($x_0$) = -11.33k \\\\$\n",
    "- SHAP_Gender($x_0$) = -2.33k \\\\$\n",
    "- SHAP_Job($x_0$) = +46.66k \\\\$\n",
    "\n",
    "Sumándolos da +33k \\\\$, que es exactamente la diferencia entre la salida del modelo completo (83k \\\\$) y la salida del modelo falso sin características (50k \\\\$).\n",
    "\n",
    "Esta es una característica fundamental de los valores SHAP: la suma de los valores SHAP de cada característica de una observación dada la diferencia entre la predicción del modelo y el modelo nulo (o su función logística, como hemos visto aquí).\n"
   ]
  }
 ],
 "metadata": {
  "kernelspec": {
   "display_name": "Python 3",
   "language": "python",
   "name": "python3"
  },
  "language_info": {
   "codemirror_mode": {
    "name": "ipython",
    "version": 3
   },
   "file_extension": ".py",
   "mimetype": "text/x-python",
   "name": "python",
   "nbconvert_exporter": "python",
   "pygments_lexer": "ipython3",
   "version": "3.7.9"
  }
 },
 "nbformat": 4,
 "nbformat_minor": 4
}
