{
 "cells": [
  {
   "cell_type": "markdown",
   "metadata": {},
   "source": [
    "## Construyendo la fórmula SHAP (1/2) - Contribuciones marginales de una característica\n",
    "Como se ha visto anteriormente, dos nodos conectados por una arista se diferencian por una sola característica, en el sentido de que el inferior tiene exactamente las mismas características del superior más una característica adicional que el superior no tenía. Por lo tanto, la diferencia entre las predicciones de dos nodos conectados puede ser atribuida al efecto de esa característica adicional. Esto se denomina \"contribución marginal\" de una característica.\n",
    "\n",
    "Por lo tanto, cada arista representa la contribución marginal aportada por una característica a un modelo.\n",
    "\n",
    "Imagina que estamos en el nodo 1, que es el modelo sin características. Este modelo simplemente predecirá el ingreso promedio de todas las observaciones de entrenamiento (50k \\\\$). Si nos movemos al nodo 2, que es un modelo con una sola característica (Edad), la predicción para $x_0$ es ahora de 40k \\\\$. Esto significa que saber la edad de $x_0$ ha reducido nuestra predicción en 10k \\\\$.\n",
    "\n",
    "Por lo tanto, la contribución marginal que aporta Age al modelo que contiene sólo la característica de Age es de -10k \\\\$. En la fórmula:\n",
    "\n",
    "<br>\n",
    "<div align=\"center\" class=\"image\">\n",
    "    <img src=\"img/shap3.png\" width=\"500\">\n",
    "</div>\n",
    "<br>\n",
    "\n",
    "Por supuesto, para obtener el efecto global de Age en el modelo final (es decir, el valor SHAP de Age para $x_0$) es necesario considerar la contribución marginal de Age en todos los modelos en los que está presente. En nuestra representación de árbol, esto significa considerar todos los bordes que conectan dos nodos de tal manera que:\n",
    "\n",
    "- el superior no contiene la edad, y\n",
    "- el de abajo contiene la edad.\n",
    "\n",
    "<br>\n",
    "<div align=\"center\" class=\"image\">\n",
    "    <img src=\"img/shap4.png\" width=\"500\">\n",
    "    <div><font size=\"-1\">Contribuciones marginales de la característica Age.\n",
    "</font></div>\n",
    "</div>\n",
    "<br>\n",
    "\n",
    "Todas estas contribuciones marginales se agregan a continuación mediante una media ponderada. En la fórmula:\n",
    "\n",
    "<br>\n",
    "<div align=\"center\" class=\"image\">\n",
    "    <img src=\"img/shap5.png\" width=\"700\">\n",
    "</div>\n",
    "<br>\n",
    "\n",
    "donde $w_1+w_2+w_3+w_4=1$."
   ]
  }
 ],
 "metadata": {
  "kernelspec": {
   "display_name": "Python [conda env:mds] *",
   "language": "python",
   "name": "conda-env-mds-py"
  },
  "language_info": {
   "codemirror_mode": {
    "name": "ipython",
    "version": 3
   },
   "file_extension": ".py",
   "mimetype": "text/x-python",
   "name": "python",
   "nbconvert_exporter": "python",
   "pygments_lexer": "ipython3",
   "version": "3.7.9"
  }
 },
 "nbformat": 4,
 "nbformat_minor": 4
}
