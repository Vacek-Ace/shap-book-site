{
 "cells": [
  {
   "cell_type": "markdown",
   "metadata": {},
   "source": [
    "## Conjunto potencia de características\n",
    "\n",
    "A modo de ejemplo, imaginaremos un modelo de *machine learning* (digamos una regresión lineal, pero podría ser cualquier otro) que predice los ingresos de una persona conociendo la edad, el sexo y el trabajo de la persona.\n",
    "\n",
    "Los valores de Shapley se basan en la idea de que el resultado de cada posible combinación (o coalición) de jugadores debe ser considerado para determinar la importancia de un solo jugador. En nuestro caso, esto corresponde a cada posible combinación de características $f$ ($f$ va de $0$ a $F$, siendo $F$ el número de todas las características disponibles, en nuestro ejemplo 3).\n",
    "\n",
    "En matemáticas, esto se llama un \"conjunto potencia\" (o conjunto de partes) y puede ser representado como un árbol.\n",
    "\n",
    "<br>\n",
    "<div align=\"center\" class=\"image\">\n",
    "    <img src=\"img/shap1.png\" width=\"500\">\n",
    "    <div><font size=\"-1\">Conjunto potencia de las características</font></div>\n",
    "</div>\n",
    "<br>\n",
    "\n",
    "Cada nodo representa una coalición de características. Cada arista representa la inclusión de una característica no presente en la coalición anterior.\n",
    "\n",
    "Sabemos, por combinatoria, que la cardinalidad de un conjunto potencia es $2 ^ n$, donde n es el número de elementos del conjunto original. De hecho, en nuestro caso, tenemos $2 ^ F = 2 ^ 3 = 8$ coaliciones posibles de características.\n",
    "\n",
    "Ahora, SHAP requiere entrenar un modelo predictivo distinto para cada coalición distinta en el conjunto potencia, es decir, $2 ^ F$ modelos. Por supuesto, estos modelos son completamente equivalentes entre sí en lo que respecta a sus hiperparámetros y sus datos de entrenamiento. Lo único que cambia es el conjunto de características incluidas en el modelo.\n",
    "\n",
    "Imaginemos que ya hemos entrenado nuestros 8 modelos de regresión lineal con los mismos datos de entrenamiento. Podemos entonces tomar una nueva observación (llamémosla $x_0$) y ver lo que los 8 modelos diferentes predicen para la misma observación $x_0$.\n",
    "\n",
    "\n",
    "<br>\n",
    "<div align=\"center\" class=\"image\">\n",
    "    <img src=\"img/shap2.png\" width=\"500\">\n",
    "    <div><font size=\"-1\">Predicciones hechas por diferentes modelos para $x_0$. En cada nodo, la primera fila informa de la coalición de características incluidas en el modelo, la segunda fila informa de los ingresos previstos para $x_0$ por ese modelo.\n",
    "</font></div>\n",
    "</div>\n",
    "<br>\n",
    "\n",
    "Aquí, cada nodo representa un modelo. ¿Pero qué representan las aristas?"
   ]
  }
 ],
 "metadata": {
  "kernelspec": {
   "display_name": "Python [conda env:mds] *",
   "language": "python",
   "name": "conda-env-mds-py"
  },
  "language_info": {
   "codemirror_mode": {
    "name": "ipython",
    "version": 3
   },
   "file_extension": ".py",
   "mimetype": "text/x-python",
   "name": "python",
   "nbconvert_exporter": "python",
   "pygments_lexer": "ipython3",
   "version": "3.7.9"
  }
 },
 "nbformat": 4,
 "nbformat_minor": 4
}
